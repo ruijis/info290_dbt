{
 "cells": [
  {
   "cell_type": "markdown",
   "metadata": {},
   "source": [
    "# Project 4 Calculating the energy usage index (Energy Consumption (per day )divided by floor area (square foot) for a given UC Berkley building"
   ]
  },
  {
   "cell_type": "code",
   "execution_count": 1,
   "metadata": {},
   "outputs": [
    {
     "name": "stdout",
     "output_type": "stream",
     "text": [
      "/home/jovyan/sp21/proj/proj3\n"
     ]
    }
   ],
   "source": [
    "!pwd"
   ]
  },
  {
   "cell_type": "code",
   "execution_count": 10,
   "metadata": {},
   "outputs": [],
   "source": [
    "# Run this cell to set up imports\n",
    "import numpy as np\n",
    "import pandas as pd"
   ]
  },
  {
   "cell_type": "code",
   "execution_count": 11,
   "metadata": {},
   "outputs": [],
   "source": [
    "%reload_ext sql\n",
    "%sql postgresql://jovyan@127.0.0.1:5432/template1"
   ]
  },
  {
   "cell_type": "code",
   "execution_count": 12,
   "metadata": {},
   "outputs": [
    {
     "name": "stderr",
     "output_type": "stream",
     "text": [
      "<ipython-input-12-70667cec2ae0>:12: UserWarning: you need to run dropdb -h localhost ucb_buildings if you want to reload the database.\n",
      "  warnings.warn(\"you need to run dropdb -h localhost ucb_buildings if you want to reload the database.\")\n"
     ]
    }
   ],
   "source": [
    "import subprocess\n",
    "import os\n",
    "import warnings\n",
    "\n",
    "call = subprocess.run([\"psql\", \"-h\", \"localhost\", \\\n",
    "                       \"-tAc\", \"SELECT 1 FROM pg_database WHERE datname='ucb_buildings'\", \"template1\"], \\\n",
    "                      stdout=subprocess.PIPE, text=True)\n",
    "\n",
    "if call.stdout != \"1\\n\":\n",
    "    os.system(\"gunzip -c proj3.sql.gz | psql -h localhost -d template1 -f -\")\n",
    "else:\n",
    "    warnings.warn(\"you need to run dropdb -h localhost ucb_buildings if you want to reload the database.\")\n",
    "%sql postgresql://jovyan@127.0.0.1:5432/ucb_buildings"
   ]
  },
  {
   "cell_type": "markdown",
   "metadata": {},
   "source": [
    "# SQL model No.1 - select the bulding that has the largest amount of data "
   ]
  },
  {
   "cell_type": "code",
   "execution_count": 31,
   "metadata": {},
   "outputs": [
    {
     "name": "stdout",
     "output_type": "stream",
     "text": [
      "   postgresql://jovyan@127.0.0.1:5432/template1\n",
      " * postgresql://jovyan@127.0.0.1:5432/ucb_buildings\n",
      "Done.\n",
      "1 rows affected.\n",
      "1 rows affected.\n"
     ]
    },
    {
     "data": {
      "text/html": [
       "<table>\n",
       "    <tr>\n",
       "        <th>site</th>\n",
       "        <th>count</th>\n",
       "    </tr>\n",
       "    <tr>\n",
       "        <td>Wurster Hall NEW (as of 12/6/10)</td>\n",
       "        <td>11999</td>\n",
       "    </tr>\n",
       "</table>"
      ],
      "text/plain": [
       "[('Wurster Hall NEW (as of 12/6/10)', 11999)]"
      ]
     },
     "execution_count": 31,
     "metadata": {},
     "output_type": "execute_result"
    }
   ],
   "source": [
    "%%sql\n",
    "DROP TABLE IF EXISTS bldg;\n",
    "CREATE TABLE bldg AS(\n",
    "SELECT site, count(value)\n",
    "FROM metadata, data\n",
    "WHERE metadata.id = data.id\n",
    "GROUP BY site\n",
    "ORDER BY count desc\n",
    "LIMIT 1);\n",
    "SELECT * FROM bldg"
   ]
  },
  {
   "cell_type": "markdown",
   "metadata": {},
   "source": [
    "# SQL model No.2 - select the bulding site and map it to buildings_site_mapping"
   ]
  },
  {
   "cell_type": "code",
   "execution_count": 30,
   "metadata": {},
   "outputs": [
    {
     "name": "stdout",
     "output_type": "stream",
     "text": [
      "   postgresql://jovyan@127.0.0.1:5432/template1\n",
      " * postgresql://jovyan@127.0.0.1:5432/ucb_buildings\n",
      "Done.\n",
      "1 rows affected.\n",
      "1 rows affected.\n"
     ]
    },
    {
     "data": {
      "text/html": [
       "<table>\n",
       "    <tr>\n",
       "        <th>site</th>\n",
       "        <th>building</th>\n",
       "    </tr>\n",
       "    <tr>\n",
       "        <td>Wurster Hall NEW (as of 12/6/10)</td>\n",
       "        <td>WURSTER</td>\n",
       "    </tr>\n",
       "</table>"
      ],
      "text/plain": [
       "[('Wurster Hall NEW (as of 12/6/10)', 'WURSTER')]"
      ]
     },
     "execution_count": 30,
     "metadata": {},
     "output_type": "execute_result"
    }
   ],
   "source": [
    "%%sql\n",
    "DROP TABLE IF EXISTS bldg_site;\n",
    "CREATE TABLE bldg_site AS(\n",
    "SELECT buildings_site_mapping.*\n",
    "FROM buildings_site_mapping, building\n",
    "WHERE buildings_site_mapping.site = building.site);\n",
    "SELECT * FROM bldg_site"
   ]
  },
  {
   "cell_type": "markdown",
   "metadata": {},
   "source": [
    "# SQL model No.3 - select the building name and map it to real_eastate_metadata"
   ]
  },
  {
   "cell_type": "code",
   "execution_count": 101,
   "metadata": {},
   "outputs": [
    {
     "name": "stdout",
     "output_type": "stream",
     "text": [
      "   postgresql://jovyan@127.0.0.1:5432/template1\n",
      " * postgresql://jovyan@127.0.0.1:5432/ucb_buildings\n",
      "Done.\n",
      "1 rows affected.\n",
      "1 rows affected.\n"
     ]
    },
    {
     "data": {
      "text/html": [
       "<table>\n",
       "    <tr>\n",
       "        <th>location</th>\n",
       "        <th>building</th>\n",
       "        <th>building_name</th>\n",
       "        <th>address</th>\n",
       "        <th>city_name</th>\n",
       "        <th>county</th>\n",
       "        <th>category</th>\n",
       "        <th>osfg</th>\n",
       "        <th>bldg_asf</th>\n",
       "        <th>levels</th>\n",
       "        <th>year</th>\n",
       "        <th>owner</th>\n",
       "        <th>mp_code</th>\n",
       "        <th>book_value</th>\n",
       "    </tr>\n",
       "    <tr>\n",
       "        <td>BERKELEY</td>\n",
       "        <td>1797</td>\n",
       "        <td>WURSTER</td>\n",
       "        <td>CORE CAMPUS</td>\n",
       "        <td>BERKELEY</td>\n",
       "        <td>ALAMEDA</td>\n",
       "        <td>GENERAL</td>\n",
       "        <td>225576</td>\n",
       "        <td>156117</td>\n",
       "        <td>11</td>\n",
       "        <td>1964</td>\n",
       "        <td>UC</td>\n",
       "        <td>P</td>\n",
       "        <td>26456866.0</td>\n",
       "    </tr>\n",
       "</table>"
      ],
      "text/plain": [
       "[('BERKELEY', '1797', 'WURSTER', 'CORE CAMPUS', 'BERKELEY', 'ALAMEDA', 'GENERAL', 225576, 156117, 11, '1964', 'UC', 'P', 26456866.0)]"
      ]
     },
     "execution_count": 101,
     "metadata": {},
     "output_type": "execute_result"
    }
   ],
   "source": [
    "%%sql\n",
    "DROP TABLE IF EXISTS bldg_real_estate;\n",
    "CREATE TABLE bldg_real_estate AS(\n",
    "SELECT rem.*\n",
    "FROM bldg_site bs\n",
    "INNER JOIN real_estate_metadata rem ON bs.building = rem.building_name);\n",
    "SELECT * FROM bldg_real_estate"
   ]
  },
  {
   "cell_type": "markdown",
   "metadata": {},
   "source": [
    "# SQL model No.4 - get the metadata of by building site"
   ]
  },
  {
   "cell_type": "code",
   "execution_count": 34,
   "metadata": {},
   "outputs": [
    {
     "name": "stdout",
     "output_type": "stream",
     "text": [
      "   postgresql://jovyan@127.0.0.1:5432/template1\n",
      " * postgresql://jovyan@127.0.0.1:5432/ucb_buildings\n",
      "Done.\n",
      "1287 rows affected.\n",
      "5 rows affected.\n"
     ]
    },
    {
     "data": {
      "text/html": [
       "<table>\n",
       "    <tr>\n",
       "        <th>id</th>\n",
       "        <th>class</th>\n",
       "        <th>site</th>\n",
       "        <th>units</th>\n",
       "    </tr>\n",
       "    <tr>\n",
       "        <td>ce655365-d1bb-5519-8d9b-d3e623f4498f</td>\n",
       "        <td>Energy A Net (kWh)</td>\n",
       "        <td>Wurster Hall NEW (as of 12/6/10)</td>\n",
       "        <td>kWh</td>\n",
       "    </tr>\n",
       "    <tr>\n",
       "        <td>8f7801be-fccf-5653-a30a-20745dfc7a66</td>\n",
       "        <td>Voltage B (Volts)</td>\n",
       "        <td>Wurster Hall NEW (as of 12/6/10)</td>\n",
       "        <td>Volts</td>\n",
       "    </tr>\n",
       "    <tr>\n",
       "        <td>6e544a24-26aa-50a7-b18b-65c9d8f13ae0</td>\n",
       "        <td>Energy Neg A (kWh)</td>\n",
       "        <td>Wurster Hall NEW (as of 12/6/10)</td>\n",
       "        <td>kWh</td>\n",
       "    </tr>\n",
       "    <tr>\n",
       "        <td>d5a04659-1e83-5b8d-9578-d6047d3bf088</td>\n",
       "        <td>Energy Neg C (kWh)</td>\n",
       "        <td>Wurster Hall NEW (as of 12/6/10)</td>\n",
       "        <td>kWh</td>\n",
       "    </tr>\n",
       "    <tr>\n",
       "        <td>cb64914e-3caa-5711-bfe7-ca62c5a5946d</td>\n",
       "        <td>Power A (kW)</td>\n",
       "        <td>Wurster Hall NEW (as of 12/6/10)</td>\n",
       "        <td>kW</td>\n",
       "    </tr>\n",
       "</table>"
      ],
      "text/plain": [
       "[('ce655365-d1bb-5519-8d9b-d3e623f4498f', 'Energy A Net (kWh)', 'Wurster Hall NEW (as of 12/6/10)', 'kWh'),\n",
       " ('8f7801be-fccf-5653-a30a-20745dfc7a66', 'Voltage B (Volts)', 'Wurster Hall NEW (as of 12/6/10)', 'Volts'),\n",
       " ('6e544a24-26aa-50a7-b18b-65c9d8f13ae0', 'Energy Neg A (kWh)', 'Wurster Hall NEW (as of 12/6/10)', 'kWh'),\n",
       " ('d5a04659-1e83-5b8d-9578-d6047d3bf088', 'Energy Neg C (kWh)', 'Wurster Hall NEW (as of 12/6/10)', 'kWh'),\n",
       " ('cb64914e-3caa-5711-bfe7-ca62c5a5946d', 'Power A (kW)', 'Wurster Hall NEW (as of 12/6/10)', 'kW')]"
      ]
     },
     "execution_count": 34,
     "metadata": {},
     "output_type": "execute_result"
    }
   ],
   "source": [
    "%%sql\n",
    "DROP TABLE IF EXISTS bldg_metadata;\n",
    "CREATE TABLE bldg_metadata AS(\n",
    "SELECT metadata.*\n",
    "FROM metadata\n",
    "INNER JOIN bldg_site bs ON bs.site=metadata.site);\n",
    "SELECT * FROM bldg_metadata LIMIT 5"
   ]
  },
  {
   "cell_type": "markdown",
   "metadata": {},
   "source": [
    "# SQL model No.5 - get energy related metadata by units"
   ]
  },
  {
   "cell_type": "code",
   "execution_count": 75,
   "metadata": {},
   "outputs": [
    {
     "name": "stdout",
     "output_type": "stream",
     "text": [
      "   postgresql://jovyan@127.0.0.1:5432/template1\n",
      " * postgresql://jovyan@127.0.0.1:5432/ucb_buildings\n",
      "Done.\n",
      "587 rows affected.\n",
      "5 rows affected.\n"
     ]
    },
    {
     "data": {
      "text/html": [
       "<table>\n",
       "    <tr>\n",
       "        <th>id</th>\n",
       "        <th>class</th>\n",
       "        <th>site</th>\n",
       "        <th>units</th>\n",
       "    </tr>\n",
       "    <tr>\n",
       "        <td>ce655365-d1bb-5519-8d9b-d3e623f4498f</td>\n",
       "        <td>Energy A Net (kWh)</td>\n",
       "        <td>Wurster Hall NEW (as of 12/6/10)</td>\n",
       "        <td>kWh</td>\n",
       "    </tr>\n",
       "    <tr>\n",
       "        <td>6e544a24-26aa-50a7-b18b-65c9d8f13ae0</td>\n",
       "        <td>Energy Neg A (kWh)</td>\n",
       "        <td>Wurster Hall NEW (as of 12/6/10)</td>\n",
       "        <td>kWh</td>\n",
       "    </tr>\n",
       "    <tr>\n",
       "        <td>d5a04659-1e83-5b8d-9578-d6047d3bf088</td>\n",
       "        <td>Energy Neg C (kWh)</td>\n",
       "        <td>Wurster Hall NEW (as of 12/6/10)</td>\n",
       "        <td>kWh</td>\n",
       "    </tr>\n",
       "    <tr>\n",
       "        <td>cb64914e-3caa-5711-bfe7-ca62c5a5946d</td>\n",
       "        <td>Power A (kW)</td>\n",
       "        <td>Wurster Hall NEW (as of 12/6/10)</td>\n",
       "        <td>kW</td>\n",
       "    </tr>\n",
       "    <tr>\n",
       "        <td>85ffe8c9-90f7-5709-bc1c-b5da39503b9f</td>\n",
       "        <td>Demand Max (kW)</td>\n",
       "        <td>Wurster Hall NEW (as of 12/6/10)</td>\n",
       "        <td>kW</td>\n",
       "    </tr>\n",
       "</table>"
      ],
      "text/plain": [
       "[('ce655365-d1bb-5519-8d9b-d3e623f4498f', 'Energy A Net (kWh)', 'Wurster Hall NEW (as of 12/6/10)', 'kWh'),\n",
       " ('6e544a24-26aa-50a7-b18b-65c9d8f13ae0', 'Energy Neg A (kWh)', 'Wurster Hall NEW (as of 12/6/10)', 'kWh'),\n",
       " ('d5a04659-1e83-5b8d-9578-d6047d3bf088', 'Energy Neg C (kWh)', 'Wurster Hall NEW (as of 12/6/10)', 'kWh'),\n",
       " ('cb64914e-3caa-5711-bfe7-ca62c5a5946d', 'Power A (kW)', 'Wurster Hall NEW (as of 12/6/10)', 'kW'),\n",
       " ('85ffe8c9-90f7-5709-bc1c-b5da39503b9f', 'Demand Max (kW)', 'Wurster Hall NEW (as of 12/6/10)', 'kW')]"
      ]
     },
     "execution_count": 75,
     "metadata": {},
     "output_type": "execute_result"
    }
   ],
   "source": [
    "%%sql\n",
    "DROP TABLE IF EXISTS bldg_energy_metadata;\n",
    "CREATE TABLE bldg_energy_metadata AS(\n",
    "SELECT * \n",
    "FROM bldg_metadata\n",
    "WHERE units in ('kwh', 'Kwh', 'kWh', 'kwH', 'KWh', 'KwH', 'kWH', 'KWH', 'kw', 'Kw', 'kW', 'KW'));\n",
    "SELECT * FROM bldg_energy_metadata LIMIT 5"
   ]
  },
  {
   "cell_type": "markdown",
   "metadata": {},
   "source": [
    "# SQL Model No.6 - get energy related class metadata, group by"
   ]
  },
  {
   "cell_type": "code",
   "execution_count": 89,
   "metadata": {},
   "outputs": [
    {
     "name": "stdout",
     "output_type": "stream",
     "text": [
      "   postgresql://jovyan@127.0.0.1:5432/template1\n",
      " * postgresql://jovyan@127.0.0.1:5432/ucb_buildings\n",
      "Done.\n",
      "37 rows affected.\n",
      "5 rows affected.\n"
     ]
    },
    {
     "data": {
      "text/html": [
       "<table>\n",
       "    <tr>\n",
       "        <th>class</th>\n",
       "    </tr>\n",
       "    <tr>\n",
       "        <td>Energy Sum NR (kWh)</td>\n",
       "    </tr>\n",
       "    <tr>\n",
       "        <td>Energy Sum (kWh)</td>\n",
       "    </tr>\n",
       "    <tr>\n",
       "        <td>Energy C Net (kWh)</td>\n",
       "    </tr>\n",
       "    <tr>\n",
       "        <td>Demand B (kW)</td>\n",
       "    </tr>\n",
       "    <tr>\n",
       "        <td>Power A (kW)</td>\n",
       "    </tr>\n",
       "</table>"
      ],
      "text/plain": [
       "[('Energy Sum NR (kWh)',),\n",
       " ('Energy Sum (kWh)',),\n",
       " ('Energy C Net (kWh)',),\n",
       " ('Demand B (kW)',),\n",
       " ('Power A (kW)',)]"
      ]
     },
     "execution_count": 89,
     "metadata": {},
     "output_type": "execute_result"
    }
   ],
   "source": [
    "%%sql\n",
    "DROP TABLE IF EXISTS bldg_energy_raw_classes;\n",
    "CREATE TABLE bldg_energy_raw_classes AS(\n",
    "SELECT class\n",
    "FROM bldg_energy_metadata\n",
    "GROUP BY class);\n",
    "SELECT * FROM bldg_energy_raw_classes LIMIT 5"
   ]
  },
  {
   "cell_type": "markdown",
   "metadata": {},
   "source": [
    "# SQL Model No.7 - get brick class through mapping the raw class name to the mapping table \n",
    "(may be we can imporve entity resolution of rawnames the before this step)"
   ]
  },
  {
   "cell_type": "code",
   "execution_count": 90,
   "metadata": {},
   "outputs": [
    {
     "name": "stdout",
     "output_type": "stream",
     "text": [
      "   postgresql://jovyan@127.0.0.1:5432/template1\n",
      " * postgresql://jovyan@127.0.0.1:5432/ucb_buildings\n",
      "Done.\n",
      "37 rows affected.\n",
      "37 rows affected.\n"
     ]
    },
    {
     "data": {
      "text/html": [
       "<table>\n",
       "    <tr>\n",
       "        <th>rawname</th>\n",
       "        <th>brickclass</th>\n",
       "    </tr>\n",
       "    <tr>\n",
       "        <td>Power B (kW)</td>\n",
       "        <td>https://brickschema.org/schema/Brick#Active_Power_Sensor</td>\n",
       "    </tr>\n",
       "    <tr>\n",
       "        <td>Demand B (kW)</td>\n",
       "        <td>https://brickschema.org/schema/Brick#Active_Power_Sensor</td>\n",
       "    </tr>\n",
       "    <tr>\n",
       "        <td>Power A (kW)</td>\n",
       "        <td>https://brickschema.org/schema/Brick#Active_Power_Sensor</td>\n",
       "    </tr>\n",
       "    <tr>\n",
       "        <td>Wurster Main Electric Max (kW)</td>\n",
       "        <td>https://brickschema.org/schema/Brick#Active_Power_Sensor</td>\n",
       "    </tr>\n",
       "    <tr>\n",
       "        <td>Real Power phase A (kW)</td>\n",
       "        <td>https://brickschema.org/schema/Brick#Active_Power_Sensor</td>\n",
       "    </tr>\n",
       "    <tr>\n",
       "        <td>Wurster Main Electric Instantaneous (kW)</td>\n",
       "        <td>https://brickschema.org/schema/Brick#Active_Power_Sensor</td>\n",
       "    </tr>\n",
       "    <tr>\n",
       "        <td>Demand A (kW)</td>\n",
       "        <td>https://brickschema.org/schema/Brick#Active_Power_Sensor</td>\n",
       "    </tr>\n",
       "    <tr>\n",
       "        <td>Power Sum (kW)</td>\n",
       "        <td>https://brickschema.org/schema/Brick#Active_Power_Sensor</td>\n",
       "    </tr>\n",
       "    <tr>\n",
       "        <td>Present Demand (kW)</td>\n",
       "        <td>https://brickschema.org/schema/Brick#Active_Power_Sensor</td>\n",
       "    </tr>\n",
       "    <tr>\n",
       "        <td>Demand Min (kW)</td>\n",
       "        <td>https://brickschema.org/schema/Brick#Active_Power_Sensor</td>\n",
       "    </tr>\n",
       "    <tr>\n",
       "        <td>Wurster Main Electric Demand (kW)</td>\n",
       "        <td>https://brickschema.org/schema/Brick#Active_Power_Sensor</td>\n",
       "    </tr>\n",
       "    <tr>\n",
       "        <td>Real Power (kW)</td>\n",
       "        <td>https://brickschema.org/schema/Brick#Active_Power_Sensor</td>\n",
       "    </tr>\n",
       "    <tr>\n",
       "        <td>Demand C (kW)</td>\n",
       "        <td>https://brickschema.org/schema/Brick#Active_Power_Sensor</td>\n",
       "    </tr>\n",
       "    <tr>\n",
       "        <td>Power C (kW)</td>\n",
       "        <td>https://brickschema.org/schema/Brick#Active_Power_Sensor</td>\n",
       "    </tr>\n",
       "    <tr>\n",
       "        <td>Demand Max (kW)</td>\n",
       "        <td>https://brickschema.org/schema/Brick#Active_Power_Sensor</td>\n",
       "    </tr>\n",
       "    <tr>\n",
       "        <td>Demand (kW)</td>\n",
       "        <td>https://brickschema.org/schema/Brick#Active_Power_Sensor</td>\n",
       "    </tr>\n",
       "    <tr>\n",
       "        <td>Real Power phase B (kW)</td>\n",
       "        <td>https://brickschema.org/schema/Brick#Active_Power_Sensor</td>\n",
       "    </tr>\n",
       "    <tr>\n",
       "        <td>Real Power phase C (kW)</td>\n",
       "        <td>https://brickschema.org/schema/Brick#Active_Power_Sensor</td>\n",
       "    </tr>\n",
       "    <tr>\n",
       "        <td>Wurster Main Electric Min (kW)</td>\n",
       "        <td>https://brickschema.org/schema/Brick#Active_Power_Sensor</td>\n",
       "    </tr>\n",
       "    <tr>\n",
       "        <td>Energy Pos B (kWh)</td>\n",
       "        <td>https://brickschema.org/schema/Brick#Energy_Sensor</td>\n",
       "    </tr>\n",
       "    <tr>\n",
       "        <td>Energy C Net (kWh)</td>\n",
       "        <td>https://brickschema.org/schema/Brick#Energy_Sensor</td>\n",
       "    </tr>\n",
       "    <tr>\n",
       "        <td>Wurster Main Electric (kWh)</td>\n",
       "        <td>https://brickschema.org/schema/Brick#Energy_Sensor</td>\n",
       "    </tr>\n",
       "    <tr>\n",
       "        <td>Energy Neg Sum NR (kWh)</td>\n",
       "        <td>https://brickschema.org/schema/Brick#Energy_Sensor</td>\n",
       "    </tr>\n",
       "    <tr>\n",
       "        <td>Energy Neg C (kWh)</td>\n",
       "        <td>https://brickschema.org/schema/Brick#Energy_Sensor</td>\n",
       "    </tr>\n",
       "    <tr>\n",
       "        <td>Energy B Net (kWh)</td>\n",
       "        <td>https://brickschema.org/schema/Brick#Energy_Sensor</td>\n",
       "    </tr>\n",
       "    <tr>\n",
       "        <td>Energy A Net (kWh)</td>\n",
       "        <td>https://brickschema.org/schema/Brick#Energy_Sensor</td>\n",
       "    </tr>\n",
       "    <tr>\n",
       "        <td>Energy Pos Sum NR (kWh)</td>\n",
       "        <td>https://brickschema.org/schema/Brick#Energy_Sensor</td>\n",
       "    </tr>\n",
       "    <tr>\n",
       "        <td>Energy Consumption (kWh)</td>\n",
       "        <td>https://brickschema.org/schema/Brick#Energy_Sensor</td>\n",
       "    </tr>\n",
       "    <tr>\n",
       "        <td>Energy Sum NR (kWh)</td>\n",
       "        <td>https://brickschema.org/schema/Brick#Energy_Sensor</td>\n",
       "    </tr>\n",
       "    <tr>\n",
       "        <td>Energy Neg Sum (kWh)</td>\n",
       "        <td>https://brickschema.org/schema/Brick#Energy_Sensor</td>\n",
       "    </tr>\n",
       "    <tr>\n",
       "        <td>Energy Pos Sum (kWh)</td>\n",
       "        <td>https://brickschema.org/schema/Brick#Energy_Sensor</td>\n",
       "    </tr>\n",
       "    <tr>\n",
       "        <td>Energy Pos C (kWh)</td>\n",
       "        <td>https://brickschema.org/schema/Brick#Energy_Sensor</td>\n",
       "    </tr>\n",
       "    <tr>\n",
       "        <td>Energy Neg A (kWh)</td>\n",
       "        <td>https://brickschema.org/schema/Brick#Energy_Sensor</td>\n",
       "    </tr>\n",
       "    <tr>\n",
       "        <td>Energy Pos A (kWh)</td>\n",
       "        <td>https://brickschema.org/schema/Brick#Energy_Sensor</td>\n",
       "    </tr>\n",
       "    <tr>\n",
       "        <td>Energy Sum (kWh)</td>\n",
       "        <td>https://brickschema.org/schema/Brick#Energy_Sensor</td>\n",
       "    </tr>\n",
       "    <tr>\n",
       "        <td>Energy Neg B (kWh)</td>\n",
       "        <td>https://brickschema.org/schema/Brick#Energy_Sensor</td>\n",
       "    </tr>\n",
       "    <tr>\n",
       "        <td>Peak Demand (kW)</td>\n",
       "        <td>https://brickschema.org/schema/Brick#Peak_Power_Demand_Sensor</td>\n",
       "    </tr>\n",
       "</table>"
      ],
      "text/plain": [
       "[('Power B (kW)', 'https://brickschema.org/schema/Brick#Active_Power_Sensor'),\n",
       " ('Demand B (kW)', 'https://brickschema.org/schema/Brick#Active_Power_Sensor'),\n",
       " ('Power A (kW)', 'https://brickschema.org/schema/Brick#Active_Power_Sensor'),\n",
       " ('Wurster Main Electric Max (kW)', 'https://brickschema.org/schema/Brick#Active_Power_Sensor'),\n",
       " ('Real Power phase A (kW)', 'https://brickschema.org/schema/Brick#Active_Power_Sensor'),\n",
       " ('Wurster Main Electric Instantaneous (kW)', 'https://brickschema.org/schema/Brick#Active_Power_Sensor'),\n",
       " ('Demand A (kW)', 'https://brickschema.org/schema/Brick#Active_Power_Sensor'),\n",
       " ('Power Sum (kW)', 'https://brickschema.org/schema/Brick#Active_Power_Sensor'),\n",
       " ('Present Demand (kW)', 'https://brickschema.org/schema/Brick#Active_Power_Sensor'),\n",
       " ('Demand Min (kW)', 'https://brickschema.org/schema/Brick#Active_Power_Sensor'),\n",
       " ('Wurster Main Electric Demand (kW)', 'https://brickschema.org/schema/Brick#Active_Power_Sensor'),\n",
       " ('Real Power (kW)', 'https://brickschema.org/schema/Brick#Active_Power_Sensor'),\n",
       " ('Demand C (kW)', 'https://brickschema.org/schema/Brick#Active_Power_Sensor'),\n",
       " ('Power C (kW)', 'https://brickschema.org/schema/Brick#Active_Power_Sensor'),\n",
       " ('Demand Max (kW)', 'https://brickschema.org/schema/Brick#Active_Power_Sensor'),\n",
       " ('Demand (kW)', 'https://brickschema.org/schema/Brick#Active_Power_Sensor'),\n",
       " ('Real Power phase B (kW)', 'https://brickschema.org/schema/Brick#Active_Power_Sensor'),\n",
       " ('Real Power phase C (kW)', 'https://brickschema.org/schema/Brick#Active_Power_Sensor'),\n",
       " ('Wurster Main Electric Min (kW)', 'https://brickschema.org/schema/Brick#Active_Power_Sensor'),\n",
       " ('Energy Pos B (kWh)', 'https://brickschema.org/schema/Brick#Energy_Sensor'),\n",
       " ('Energy C Net (kWh)', 'https://brickschema.org/schema/Brick#Energy_Sensor'),\n",
       " ('Wurster Main Electric (kWh)', 'https://brickschema.org/schema/Brick#Energy_Sensor'),\n",
       " ('Energy Neg Sum NR (kWh)', 'https://brickschema.org/schema/Brick#Energy_Sensor'),\n",
       " ('Energy Neg C (kWh)', 'https://brickschema.org/schema/Brick#Energy_Sensor'),\n",
       " ('Energy B Net (kWh)', 'https://brickschema.org/schema/Brick#Energy_Sensor'),\n",
       " ('Energy A Net (kWh)', 'https://brickschema.org/schema/Brick#Energy_Sensor'),\n",
       " ('Energy Pos Sum NR (kWh)', 'https://brickschema.org/schema/Brick#Energy_Sensor'),\n",
       " ('Energy Consumption (kWh)', 'https://brickschema.org/schema/Brick#Energy_Sensor'),\n",
       " ('Energy Sum NR (kWh)', 'https://brickschema.org/schema/Brick#Energy_Sensor'),\n",
       " ('Energy Neg Sum (kWh)', 'https://brickschema.org/schema/Brick#Energy_Sensor'),\n",
       " ('Energy Pos Sum (kWh)', 'https://brickschema.org/schema/Brick#Energy_Sensor'),\n",
       " ('Energy Pos C (kWh)', 'https://brickschema.org/schema/Brick#Energy_Sensor'),\n",
       " ('Energy Neg A (kWh)', 'https://brickschema.org/schema/Brick#Energy_Sensor'),\n",
       " ('Energy Pos A (kWh)', 'https://brickschema.org/schema/Brick#Energy_Sensor'),\n",
       " ('Energy Sum (kWh)', 'https://brickschema.org/schema/Brick#Energy_Sensor'),\n",
       " ('Energy Neg B (kWh)', 'https://brickschema.org/schema/Brick#Energy_Sensor'),\n",
       " ('Peak Demand (kW)', 'https://brickschema.org/schema/Brick#Peak_Power_Demand_Sensor')]"
      ]
     },
     "execution_count": 90,
     "metadata": {},
     "output_type": "execute_result"
    }
   ],
   "source": [
    "%%sql\n",
    "DROP TABLE IF EXISTS bldg_energy_brick_classes;\n",
    "CREATE TABLE bldg_energy_brick_classes AS(\n",
    "SELECT m.*\n",
    "FROM bldg_energy_raw_classes berc INNER JOIN mapping m\n",
    "ON berc.class = m.rawname);\n",
    "SELECT * FROM bldg_energy_brick_classes ORDER BY brickclass"
   ]
  },
  {
   "cell_type": "markdown",
   "metadata": {},
   "source": [
    "# SQL Model No.8 - get the raw class with Energy_Sensor brickclass"
   ]
  },
  {
   "cell_type": "code",
   "execution_count": 91,
   "metadata": {},
   "outputs": [
    {
     "name": "stdout",
     "output_type": "stream",
     "text": [
      "   postgresql://jovyan@127.0.0.1:5432/template1\n",
      " * postgresql://jovyan@127.0.0.1:5432/ucb_buildings\n",
      "Done.\n",
      "17 rows affected.\n",
      "17 rows affected.\n"
     ]
    },
    {
     "data": {
      "text/html": [
       "<table>\n",
       "    <tr>\n",
       "        <th>rawname</th>\n",
       "    </tr>\n",
       "    <tr>\n",
       "        <td>Energy Sum NR (kWh)</td>\n",
       "    </tr>\n",
       "    <tr>\n",
       "        <td>Energy Sum (kWh)</td>\n",
       "    </tr>\n",
       "    <tr>\n",
       "        <td>Energy C Net (kWh)</td>\n",
       "    </tr>\n",
       "    <tr>\n",
       "        <td>Energy Neg C (kWh)</td>\n",
       "    </tr>\n",
       "    <tr>\n",
       "        <td>Energy A Net (kWh)</td>\n",
       "    </tr>\n",
       "    <tr>\n",
       "        <td>Energy Pos Sum NR (kWh)</td>\n",
       "    </tr>\n",
       "    <tr>\n",
       "        <td>Energy Consumption (kWh)</td>\n",
       "    </tr>\n",
       "    <tr>\n",
       "        <td>Energy Pos C (kWh)</td>\n",
       "    </tr>\n",
       "    <tr>\n",
       "        <td>Energy Neg A (kWh)</td>\n",
       "    </tr>\n",
       "    <tr>\n",
       "        <td>Energy Neg B (kWh)</td>\n",
       "    </tr>\n",
       "    <tr>\n",
       "        <td>Wurster Main Electric (kWh)</td>\n",
       "    </tr>\n",
       "    <tr>\n",
       "        <td>Energy Neg Sum NR (kWh)</td>\n",
       "    </tr>\n",
       "    <tr>\n",
       "        <td>Energy Neg Sum (kWh)</td>\n",
       "    </tr>\n",
       "    <tr>\n",
       "        <td>Energy Pos Sum (kWh)</td>\n",
       "    </tr>\n",
       "    <tr>\n",
       "        <td>Energy B Net (kWh)</td>\n",
       "    </tr>\n",
       "    <tr>\n",
       "        <td>Energy Pos B (kWh)</td>\n",
       "    </tr>\n",
       "    <tr>\n",
       "        <td>Energy Pos A (kWh)</td>\n",
       "    </tr>\n",
       "</table>"
      ],
      "text/plain": [
       "[('Energy Sum NR (kWh)',),\n",
       " ('Energy Sum (kWh)',),\n",
       " ('Energy C Net (kWh)',),\n",
       " ('Energy Neg C (kWh)',),\n",
       " ('Energy A Net (kWh)',),\n",
       " ('Energy Pos Sum NR (kWh)',),\n",
       " ('Energy Consumption (kWh)',),\n",
       " ('Energy Pos C (kWh)',),\n",
       " ('Energy Neg A (kWh)',),\n",
       " ('Energy Neg B (kWh)',),\n",
       " ('Wurster Main Electric (kWh)',),\n",
       " ('Energy Neg Sum NR (kWh)',),\n",
       " ('Energy Neg Sum (kWh)',),\n",
       " ('Energy Pos Sum (kWh)',),\n",
       " ('Energy B Net (kWh)',),\n",
       " ('Energy Pos B (kWh)',),\n",
       " ('Energy Pos A (kWh)',)]"
      ]
     },
     "execution_count": 91,
     "metadata": {},
     "output_type": "execute_result"
    }
   ],
   "source": [
    "%%sql\n",
    "DROP TABLE IF EXISTS bldg_energy_classes;\n",
    "CREATE TABLE bldg_energy_classes AS(\n",
    "SELECT rawname \n",
    "FROM bldg_energy_brick_classes\n",
    "WHERE brickclass = 'https://brickschema.org/schema/Brick#Energy_Sensor');\n",
    "SELECT * FROM bldg_energy_classes"
   ]
  },
  {
   "cell_type": "markdown",
   "metadata": {},
   "source": [
    "# SQL Model No.9 - get data of the energy class"
   ]
  },
  {
   "cell_type": "code",
   "execution_count": 98,
   "metadata": {},
   "outputs": [
    {
     "name": "stdout",
     "output_type": "stream",
     "text": [
      "   postgresql://jovyan@127.0.0.1:5432/template1\n",
      " * postgresql://jovyan@127.0.0.1:5432/ucb_buildings\n",
      "Done.\n",
      "4605 rows affected.\n",
      "5 rows affected.\n"
     ]
    },
    {
     "data": {
      "text/html": [
       "<table>\n",
       "    <tr>\n",
       "        <th>time</th>\n",
       "        <th>id</th>\n",
       "        <th>value</th>\n",
       "        <th>class</th>\n",
       "    </tr>\n",
       "    <tr>\n",
       "        <td>2018-06-12 23:00:09+00:00</td>\n",
       "        <td>a3d3326f-20ab-5f1d-97c7-f3084df43f06</td>\n",
       "        <td>65182.74</td>\n",
       "        <td>Energy Pos B (kWh)</td>\n",
       "    </tr>\n",
       "    <tr>\n",
       "        <td>2018-06-12 22:45:09+00:00</td>\n",
       "        <td>a3d3326f-20ab-5f1d-97c7-f3084df43f06</td>\n",
       "        <td>65182.51</td>\n",
       "        <td>Energy Pos B (kWh)</td>\n",
       "    </tr>\n",
       "    <tr>\n",
       "        <td>2018-06-12 22:30:09+00:00</td>\n",
       "        <td>a3d3326f-20ab-5f1d-97c7-f3084df43f06</td>\n",
       "        <td>65182.27</td>\n",
       "        <td>Energy Pos B (kWh)</td>\n",
       "    </tr>\n",
       "    <tr>\n",
       "        <td>2018-06-12 22:15:10+00:00</td>\n",
       "        <td>a3d3326f-20ab-5f1d-97c7-f3084df43f06</td>\n",
       "        <td>65182.02</td>\n",
       "        <td>Energy Pos B (kWh)</td>\n",
       "    </tr>\n",
       "    <tr>\n",
       "        <td>2018-06-12 22:00:09+00:00</td>\n",
       "        <td>a3d3326f-20ab-5f1d-97c7-f3084df43f06</td>\n",
       "        <td>65181.77</td>\n",
       "        <td>Energy Pos B (kWh)</td>\n",
       "    </tr>\n",
       "</table>"
      ],
      "text/plain": [
       "[(datetime.datetime(2018, 6, 12, 23, 0, 9, tzinfo=psycopg2.tz.FixedOffsetTimezone(offset=0, name=None)), 'a3d3326f-20ab-5f1d-97c7-f3084df43f06', 65182.74, 'Energy Pos B (kWh)'),\n",
       " (datetime.datetime(2018, 6, 12, 22, 45, 9, tzinfo=psycopg2.tz.FixedOffsetTimezone(offset=0, name=None)), 'a3d3326f-20ab-5f1d-97c7-f3084df43f06', 65182.51, 'Energy Pos B (kWh)'),\n",
       " (datetime.datetime(2018, 6, 12, 22, 30, 9, tzinfo=psycopg2.tz.FixedOffsetTimezone(offset=0, name=None)), 'a3d3326f-20ab-5f1d-97c7-f3084df43f06', 65182.27, 'Energy Pos B (kWh)'),\n",
       " (datetime.datetime(2018, 6, 12, 22, 15, 10, tzinfo=psycopg2.tz.FixedOffsetTimezone(offset=0, name=None)), 'a3d3326f-20ab-5f1d-97c7-f3084df43f06', 65182.02, 'Energy Pos B (kWh)'),\n",
       " (datetime.datetime(2018, 6, 12, 22, 0, 9, tzinfo=psycopg2.tz.FixedOffsetTimezone(offset=0, name=None)), 'a3d3326f-20ab-5f1d-97c7-f3084df43f06', 65181.77, 'Energy Pos B (kWh)')]"
      ]
     },
     "execution_count": 98,
     "metadata": {},
     "output_type": "execute_result"
    }
   ],
   "source": [
    "%%sql\n",
    "DROP TABLE IF EXISTS bldg_energy_data;\n",
    "CREATE TABLE bldg_energy_data AS(\n",
    "SELECT data.*, bldg_energy_metadata.class \n",
    "FROM bldg_energy_metadata, bldg_energy_classes, data\n",
    "WHERE bldg_energy_metadata.class = bldg_energy_classes.rawname and bldg_energy_metadata.id = data.id);\n",
    "SELECT * FROM bldg_energy_data LIMIT 5"
   ]
  },
  {
   "cell_type": "markdown",
   "metadata": {},
   "source": [
    "# SQL Model No.10 - get the most largest kind of energy data"
   ]
  },
  {
   "cell_type": "code",
   "execution_count": 96,
   "metadata": {},
   "outputs": [
    {
     "name": "stdout",
     "output_type": "stream",
     "text": [
      "   postgresql://jovyan@127.0.0.1:5432/template1\n",
      " * postgresql://jovyan@127.0.0.1:5432/ucb_buildings\n",
      "Done.\n",
      "1 rows affected.\n",
      "1 rows affected.\n"
     ]
    },
    {
     "data": {
      "text/html": [
       "<table>\n",
       "    <tr>\n",
       "        <th>class</th>\n",
       "    </tr>\n",
       "    <tr>\n",
       "        <td>Energy Sum (kWh)</td>\n",
       "    </tr>\n",
       "</table>"
      ],
      "text/plain": [
       "[('Energy Sum (kWh)',)]"
      ]
     },
     "execution_count": 96,
     "metadata": {},
     "output_type": "execute_result"
    }
   ],
   "source": [
    "%%sql\n",
    "DROP TABLE IF EXISTS bldg_energy_data_sum_class;\n",
    "CREATE TABLE bldg_energy_data_sum_class AS(\n",
    "SELECT class\n",
    "FROM bldg_energy_data\n",
    "ORDER BY value DESC\n",
    "LIMIT 1);\n",
    "SELECT * FROM bldg_energy_data_sum_class"
   ]
  },
  {
   "cell_type": "markdown",
   "metadata": {},
   "source": [
    "# SQL Model No.11 - get the energy comsuption data of the day 2018-06-10\n",
    "(cleaning outliers of temp sensor data (pj3, q2))"
   ]
  },
  {
   "cell_type": "code",
   "execution_count": 138,
   "metadata": {},
   "outputs": [
    {
     "name": "stdout",
     "output_type": "stream",
     "text": [
      "   postgresql://jovyan@127.0.0.1:5432/template1\n",
      " * postgresql://jovyan@127.0.0.1:5432/ucb_buildings\n",
      "Done.\n",
      "1 rows affected.\n",
      "1 rows affected.\n"
     ]
    },
    {
     "data": {
      "text/html": [
       "<table>\n",
       "    <tr>\n",
       "        <th>energy_consumption_kwh</th>\n",
       "    </tr>\n",
       "    <tr>\n",
       "        <td>30.519999999989523</td>\n",
       "    </tr>\n",
       "</table>"
      ],
      "text/plain": [
       "[(30.519999999989523,)]"
      ]
     },
     "execution_count": 138,
     "metadata": {},
     "output_type": "execute_result"
    }
   ],
   "source": [
    "%%sql\n",
    "DROP TABLE IF EXISTS bldg_energy_consumption;\n",
    "CREATE TABLE bldg_energy_consumption AS(\n",
    "SELECT max(bed.value) - min(bed.value) as energy_consumption_kWh\n",
    "FROM bldg_energy_data bed, bldg_energy_data_sum_class bedsc\n",
    "WHERE bed.class = bedsc.class and bed.time >= '2018-06-10' and bed.time < '2018-06-11');\n",
    "SELECT * FROM bldg_energy_consumption"
   ]
  },
  {
   "cell_type": "markdown",
   "metadata": {},
   "source": [
    "# SQL Model No.12 - calculate the Energy Usage Index (EUI) of that bulding of that day"
   ]
  },
  {
   "cell_type": "code",
   "execution_count": 144,
   "metadata": {},
   "outputs": [
    {
     "name": "stdout",
     "output_type": "stream",
     "text": [
      "   postgresql://jovyan@127.0.0.1:5432/template1\n",
      " * postgresql://jovyan@127.0.0.1:5432/ucb_buildings\n",
      "Done.\n",
      "1 rows affected.\n",
      "1 rows affected.\n"
     ]
    },
    {
     "data": {
      "text/html": [
       "<table>\n",
       "    <tr>\n",
       "        <th>eui_kwh_sf</th>\n",
       "    </tr>\n",
       "    <tr>\n",
       "        <td>0.00019549440483733048</td>\n",
       "    </tr>\n",
       "</table>"
      ],
      "text/plain": [
       "[(0.00019549440483733048,)]"
      ]
     },
     "execution_count": 144,
     "metadata": {},
     "output_type": "execute_result"
    }
   ],
   "source": [
    "%%sql\n",
    "DROP TABLE IF EXISTS bldg_eui;\n",
    "CREATE TABLE bldg_eui AS(\n",
    "SELECT bec.energy_consumption_kwh / bre.bldg_asf as EUI_kWh_sf\n",
    "FROM bldg_energy_consumption bec, bldg_real_estate bre);\n",
    "SELECT * FROM bldg_eui"
   ]
  },
  {
   "cell_type": "markdown",
   "metadata": {},
   "source": []
  },
  {
   "cell_type": "code",
   "execution_count": null,
   "metadata": {},
   "outputs": [],
   "source": []
  }
 ],
 "metadata": {
  "kernelspec": {
   "display_name": "Python 3",
   "language": "python",
   "name": "python3"
  },
  "language_info": {
   "codemirror_mode": {
    "name": "ipython",
    "version": 3
   },
   "file_extension": ".py",
   "mimetype": "text/x-python",
   "name": "python",
   "nbconvert_exporter": "python",
   "pygments_lexer": "ipython3",
   "version": "3.8.8"
  }
 },
 "nbformat": 4,
 "nbformat_minor": 4
}
