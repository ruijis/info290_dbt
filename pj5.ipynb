{
 "cells": [
  {
   "cell_type": "markdown",
   "metadata": {},
   "source": [
    "# Project 4 Calculating the energy usage index (Energy Consumption (per day )divided by floor area (square foot) for a given UC Berkley building"
   ]
  },
  {
   "cell_type": "code",
   "execution_count": 1,
   "metadata": {},
   "outputs": [
    {
     "name": "stdout",
     "output_type": "stream",
     "text": [
      "/home/jovyan/sp21/proj/proj5\r\n"
     ]
    }
   ],
   "source": [
    "!pwd"
   ]
  },
  {
   "cell_type": "code",
   "execution_count": 2,
   "metadata": {},
   "outputs": [],
   "source": [
    "# Run this cell to set up imports\n",
    "import numpy as np\n",
    "import pandas as pd"
   ]
  },
  {
   "cell_type": "code",
   "execution_count": 3,
   "metadata": {},
   "outputs": [],
   "source": [
    "%reload_ext sql\n",
    "%sql postgresql://jovyan@127.0.0.1:5432/template1"
   ]
  },
  {
   "cell_type": "code",
   "execution_count": 4,
   "metadata": {},
   "outputs": [
    {
     "name": "stderr",
     "output_type": "stream",
     "text": [
      "<ipython-input-4-70667cec2ae0>:12: UserWarning: you need to run dropdb -h localhost ucb_buildings if you want to reload the database.\n",
      "  warnings.warn(\"you need to run dropdb -h localhost ucb_buildings if you want to reload the database.\")\n"
     ]
    }
   ],
   "source": [
    "import subprocess\n",
    "import os\n",
    "import warnings\n",
    "\n",
    "call = subprocess.run([\"psql\", \"-h\", \"localhost\", \\\n",
    "                       \"-tAc\", \"SELECT 1 FROM pg_database WHERE datname='ucb_buildings'\", \"template1\"], \\\n",
    "                      stdout=subprocess.PIPE, text=True)\n",
    "\n",
    "if call.stdout != \"1\\n\":\n",
    "    os.system(\"gunzip -c proj3.sql.gz | psql -h localhost -d template1 -f -\")\n",
    "else:\n",
    "    warnings.warn(\"you need to run dropdb -h localhost ucb_buildings if you want to reload the database.\")\n",
    "%sql postgresql://jovyan@127.0.0.1:5432/ucb_buildings"
   ]
  },
  {
   "cell_type": "markdown",
   "metadata": {},
   "source": [
    "# SQL model No.1 - select the bulding that has the largest amount of data "
   ]
  },
  {
   "cell_type": "code",
   "execution_count": 5,
   "metadata": {},
   "outputs": [
    {
     "name": "stdout",
     "output_type": "stream",
     "text": [
      "   postgresql://jovyan@127.0.0.1:5432/template1\n",
      " * postgresql://jovyan@127.0.0.1:5432/ucb_buildings\n",
      "Done.\n",
      "1 rows affected.\n",
      "1 rows affected.\n"
     ]
    },
    {
     "data": {
      "text/html": [
       "<table>\n",
       "    <tr>\n",
       "        <th>site</th>\n",
       "        <th>count</th>\n",
       "    </tr>\n",
       "    <tr>\n",
       "        <td>Wurster Hall NEW (as of 12/6/10)</td>\n",
       "        <td>11999</td>\n",
       "    </tr>\n",
       "</table>"
      ],
      "text/plain": [
       "[('Wurster Hall NEW (as of 12/6/10)', 11999)]"
      ]
     },
     "execution_count": 5,
     "metadata": {},
     "output_type": "execute_result"
    }
   ],
   "source": [
    "%%sql\n",
    "DROP TABLE IF EXISTS bldg;\n",
    "CREATE TABLE bldg AS(\n",
    "SELECT site, count(value)\n",
    "FROM metadata, data\n",
    "WHERE metadata.id = data.id\n",
    "GROUP BY site\n",
    "ORDER BY count desc\n",
    "LIMIT 1);\n",
    "SELECT * FROM bldg"
   ]
  },
  {
   "cell_type": "markdown",
   "metadata": {},
   "source": [
    "# SQL model No.2 - select the bulding site and map it to buildings_site_mapping"
   ]
  },
  {
   "cell_type": "code",
   "execution_count": 6,
   "metadata": {},
   "outputs": [
    {
     "name": "stdout",
     "output_type": "stream",
     "text": [
      "   postgresql://jovyan@127.0.0.1:5432/template1\n",
      " * postgresql://jovyan@127.0.0.1:5432/ucb_buildings\n",
      "Done.\n",
      "(psycopg2.errors.UndefinedTable) relation \"building\" does not exist\n",
      "LINE 3: FROM buildings_site_mapping, building\n",
      "                                     ^\n",
      "\n",
      "[SQL: CREATE TABLE bldg_site AS(\n",
      "SELECT buildings_site_mapping.*\n",
      "FROM buildings_site_mapping, building\n",
      "WHERE buildings_site_mapping.site = building.site);]\n",
      "(Background on this error at: http://sqlalche.me/e/14/f405)\n"
     ]
    }
   ],
   "source": [
    "%%sql\n",
    "DROP TABLE IF EXISTS bldg_site;\n",
    "CREATE TABLE bldg_site AS(\n",
    "SELECT buildings_site_mapping.*\n",
    "FROM buildings_site_mapping, building\n",
    "WHERE buildings_site_mapping.site = building.site);\n",
    "SELECT * FROM bldg_site"
   ]
  },
  {
   "cell_type": "markdown",
   "metadata": {},
   "source": [
    "# SQL model No.3 - select the building name and map it to real_eastate_metadata"
   ]
  },
  {
   "cell_type": "code",
   "execution_count": 7,
   "metadata": {},
   "outputs": [
    {
     "name": "stdout",
     "output_type": "stream",
     "text": [
      "   postgresql://jovyan@127.0.0.1:5432/template1\n",
      " * postgresql://jovyan@127.0.0.1:5432/ucb_buildings\n",
      "Done.\n",
      "(psycopg2.errors.UndefinedTable) relation \"bldg_site\" does not exist\n",
      "LINE 3: FROM bldg_site bs\n",
      "             ^\n",
      "\n",
      "[SQL: CREATE TABLE bldg_real_estate AS(\n",
      "SELECT rem.*\n",
      "FROM bldg_site bs\n",
      "INNER JOIN real_estate_metadata rem ON bs.building = rem.building_name);]\n",
      "(Background on this error at: http://sqlalche.me/e/14/f405)\n"
     ]
    }
   ],
   "source": [
    "%%sql\n",
    "DROP TABLE IF EXISTS bldg_real_estate;\n",
    "CREATE TABLE bldg_real_estate AS(\n",
    "SELECT rem.*\n",
    "FROM bldg_site bs\n",
    "INNER JOIN real_estate_metadata rem ON bs.building = rem.building_name);\n",
    "SELECT * FROM bldg_real_estate"
   ]
  },
  {
   "cell_type": "markdown",
   "metadata": {},
   "source": [
    "# SQL model No.4 - get the metadata of by building site"
   ]
  },
  {
   "cell_type": "code",
   "execution_count": 8,
   "metadata": {},
   "outputs": [
    {
     "name": "stdout",
     "output_type": "stream",
     "text": [
      "   postgresql://jovyan@127.0.0.1:5432/template1\n",
      " * postgresql://jovyan@127.0.0.1:5432/ucb_buildings\n",
      "Done.\n",
      "(psycopg2.errors.UndefinedTable) relation \"bldg_site\" does not exist\n",
      "LINE 4: INNER JOIN bldg_site bs ON bs.site=metadata.site);\n",
      "                   ^\n",
      "\n",
      "[SQL: CREATE TABLE bldg_metadata AS(\n",
      "SELECT metadata.*\n",
      "FROM metadata\n",
      "INNER JOIN bldg_site bs ON bs.site=metadata.site);]\n",
      "(Background on this error at: http://sqlalche.me/e/14/f405)\n"
     ]
    }
   ],
   "source": [
    "%%sql\n",
    "DROP TABLE IF EXISTS bldg_metadata;\n",
    "CREATE TABLE bldg_metadata AS(\n",
    "SELECT metadata.*\n",
    "FROM metadata\n",
    "INNER JOIN bldg_site bs ON bs.site=metadata.site);\n",
    "SELECT * FROM bldg_metadata LIMIT 5"
   ]
  },
  {
   "cell_type": "markdown",
   "metadata": {},
   "source": [
    "# SQL model No.5 - get energy related metadata by units"
   ]
  },
  {
   "cell_type": "code",
   "execution_count": 9,
   "metadata": {},
   "outputs": [
    {
     "name": "stdout",
     "output_type": "stream",
     "text": [
      "   postgresql://jovyan@127.0.0.1:5432/template1\n",
      " * postgresql://jovyan@127.0.0.1:5432/ucb_buildings\n",
      "Done.\n",
      "(psycopg2.errors.UndefinedTable) relation \"bldg_metadata\" does not exist\n",
      "LINE 3: FROM bldg_metadata\n",
      "             ^\n",
      "\n",
      "[SQL: CREATE TABLE bldg_energy_metadata AS(\n",
      "SELECT * \n",
      "FROM bldg_metadata\n",
      "WHERE units in ('kwh', 'Kwh', 'kWh', 'kwH', 'KWh', 'KwH', 'kWH', 'KWH', 'kw', 'Kw', 'kW', 'KW'));]\n",
      "(Background on this error at: http://sqlalche.me/e/14/f405)\n"
     ]
    }
   ],
   "source": [
    "%%sql\n",
    "DROP TABLE IF EXISTS bldg_energy_metadata;\n",
    "CREATE TABLE bldg_energy_metadata AS(\n",
    "SELECT * \n",
    "FROM bldg_metadata\n",
    "WHERE units in ('kwh', 'Kwh', 'kWh', 'kwH', 'KWh', 'KwH', 'kWH', 'KWH', 'kw', 'Kw', 'kW', 'KW'));\n",
    "SELECT * FROM bldg_energy_metadata LIMIT 5"
   ]
  },
  {
   "cell_type": "markdown",
   "metadata": {},
   "source": [
    "# SQL Model No.6 - get energy related class metadata, group by"
   ]
  },
  {
   "cell_type": "code",
   "execution_count": 10,
   "metadata": {},
   "outputs": [
    {
     "name": "stdout",
     "output_type": "stream",
     "text": [
      "   postgresql://jovyan@127.0.0.1:5432/template1\n",
      " * postgresql://jovyan@127.0.0.1:5432/ucb_buildings\n",
      "Done.\n",
      "(psycopg2.errors.UndefinedTable) relation \"bldg_energy_metadata\" does not exist\n",
      "LINE 3: FROM bldg_energy_metadata\n",
      "             ^\n",
      "\n",
      "[SQL: CREATE TABLE bldg_energy_raw_classes AS(\n",
      "SELECT class\n",
      "FROM bldg_energy_metadata\n",
      "GROUP BY class);]\n",
      "(Background on this error at: http://sqlalche.me/e/14/f405)\n"
     ]
    }
   ],
   "source": [
    "%%sql\n",
    "DROP TABLE IF EXISTS bldg_energy_raw_classes;\n",
    "CREATE TABLE bldg_energy_raw_classes AS(\n",
    "SELECT class\n",
    "FROM bldg_energy_metadata\n",
    "GROUP BY class);\n",
    "SELECT * FROM bldg_energy_raw_classes LIMIT 5"
   ]
  },
  {
   "cell_type": "markdown",
   "metadata": {},
   "source": [
    "# SQL Model No.7 - get brick class through mapping the raw class name to the mapping table \n",
    "(may be we can imporve entity resolution of rawnames the before this step)"
   ]
  },
  {
   "cell_type": "code",
   "execution_count": 11,
   "metadata": {},
   "outputs": [
    {
     "name": "stdout",
     "output_type": "stream",
     "text": [
      "   postgresql://jovyan@127.0.0.1:5432/template1\n",
      " * postgresql://jovyan@127.0.0.1:5432/ucb_buildings\n",
      "Done.\n",
      "(psycopg2.errors.UndefinedTable) relation \"bldg_energy_raw_classes\" does not exist\n",
      "LINE 3: FROM bldg_energy_raw_classes berc INNER JOIN mapping m\n",
      "             ^\n",
      "\n",
      "[SQL: CREATE TABLE bldg_energy_brick_classes AS(\n",
      "SELECT m.*\n",
      "FROM bldg_energy_raw_classes berc INNER JOIN mapping m\n",
      "ON berc.class = m.rawname);]\n",
      "(Background on this error at: http://sqlalche.me/e/14/f405)\n"
     ]
    }
   ],
   "source": [
    "%%sql\n",
    "DROP TABLE IF EXISTS bldg_energy_brick_classes;\n",
    "CREATE TABLE bldg_energy_brick_classes AS(\n",
    "SELECT m.*\n",
    "FROM bldg_energy_raw_classes berc INNER JOIN mapping m\n",
    "ON berc.class = m.rawname);\n",
    "SELECT * FROM bldg_energy_brick_classes ORDER BY brickclass"
   ]
  },
  {
   "cell_type": "markdown",
   "metadata": {},
   "source": [
    "# SQL Model No.8 - get the raw class with Energy_Sensor brickclass"
   ]
  },
  {
   "cell_type": "code",
   "execution_count": 12,
   "metadata": {},
   "outputs": [
    {
     "name": "stdout",
     "output_type": "stream",
     "text": [
      "   postgresql://jovyan@127.0.0.1:5432/template1\n",
      " * postgresql://jovyan@127.0.0.1:5432/ucb_buildings\n",
      "Done.\n",
      "(psycopg2.errors.UndefinedTable) relation \"bldg_energy_brick_classes\" does not exist\n",
      "LINE 3: FROM bldg_energy_brick_classes\n",
      "             ^\n",
      "\n",
      "[SQL: CREATE TABLE bldg_energy_classes AS(\n",
      "SELECT rawname \n",
      "FROM bldg_energy_brick_classes\n",
      "WHERE brickclass = 'https://brickschema.org/schema/Brick#Energy_Sensor');]\n",
      "(Background on this error at: http://sqlalche.me/e/14/f405)\n"
     ]
    }
   ],
   "source": [
    "%%sql\n",
    "DROP TABLE IF EXISTS bldg_energy_classes;\n",
    "CREATE TABLE bldg_energy_classes AS(\n",
    "SELECT rawname \n",
    "FROM bldg_energy_brick_classes\n",
    "WHERE brickclass = 'https://brickschema.org/schema/Brick#Energy_Sensor');\n",
    "SELECT * FROM bldg_energy_classes"
   ]
  },
  {
   "cell_type": "markdown",
   "metadata": {},
   "source": [
    "# SQL Model No.9 - get data of the energy class"
   ]
  },
  {
   "cell_type": "code",
   "execution_count": 13,
   "metadata": {},
   "outputs": [
    {
     "name": "stdout",
     "output_type": "stream",
     "text": [
      "   postgresql://jovyan@127.0.0.1:5432/template1\n",
      " * postgresql://jovyan@127.0.0.1:5432/ucb_buildings\n",
      "Done.\n",
      "(psycopg2.errors.UndefinedTable) relation \"bldg_energy_metadata\" does not exist\n",
      "LINE 3: FROM bldg_energy_metadata, bldg_energy_classes, data\n",
      "             ^\n",
      "\n",
      "[SQL: CREATE TABLE bldg_energy_data AS(\n",
      "SELECT data.*, bldg_energy_metadata.class \n",
      "FROM bldg_energy_metadata, bldg_energy_classes, data\n",
      "WHERE bldg_energy_metadata.class = bldg_energy_classes.rawname and bldg_energy_metadata.id = data.id);]\n",
      "(Background on this error at: http://sqlalche.me/e/14/f405)\n"
     ]
    }
   ],
   "source": [
    "%%sql\n",
    "DROP TABLE IF EXISTS bldg_energy_data;\n",
    "CREATE TABLE bldg_energy_data AS(\n",
    "SELECT data.*, bldg_energy_metadata.class \n",
    "FROM bldg_energy_metadata, bldg_energy_classes, data\n",
    "WHERE bldg_energy_metadata.class = bldg_energy_classes.rawname and bldg_energy_metadata.id = data.id);\n",
    "SELECT * FROM bldg_energy_data LIMIT 5"
   ]
  },
  {
   "cell_type": "markdown",
   "metadata": {},
   "source": [
    "# SQL Model No.10 - get the most largest kind of energy data"
   ]
  },
  {
   "cell_type": "code",
   "execution_count": 14,
   "metadata": {},
   "outputs": [
    {
     "name": "stdout",
     "output_type": "stream",
     "text": [
      "   postgresql://jovyan@127.0.0.1:5432/template1\n",
      " * postgresql://jovyan@127.0.0.1:5432/ucb_buildings\n",
      "Done.\n",
      "(psycopg2.errors.UndefinedTable) relation \"bldg_energy_data\" does not exist\n",
      "LINE 3: FROM bldg_energy_data\n",
      "             ^\n",
      "\n",
      "[SQL: CREATE TABLE bldg_energy_data_sum_class AS(\n",
      "SELECT class\n",
      "FROM bldg_energy_data\n",
      "ORDER BY value DESC\n",
      "LIMIT 1);]\n",
      "(Background on this error at: http://sqlalche.me/e/14/f405)\n"
     ]
    }
   ],
   "source": [
    "%%sql\n",
    "DROP TABLE IF EXISTS bldg_energy_data_sum_class;\n",
    "CREATE TABLE bldg_energy_data_sum_class AS(\n",
    "SELECT class\n",
    "FROM bldg_energy_data\n",
    "ORDER BY value DESC\n",
    "LIMIT 1);\n",
    "SELECT * FROM bldg_energy_data_sum_class"
   ]
  },
  {
   "cell_type": "markdown",
   "metadata": {},
   "source": [
    "# SQL Model No.11 - get the energy comsuption data of the day 2018-06-10\n",
    "(cleaning outliers of temp sensor data (pj3, q2))"
   ]
  },
  {
   "cell_type": "code",
   "execution_count": 15,
   "metadata": {},
   "outputs": [
    {
     "name": "stdout",
     "output_type": "stream",
     "text": [
      "   postgresql://jovyan@127.0.0.1:5432/template1\n",
      " * postgresql://jovyan@127.0.0.1:5432/ucb_buildings\n",
      "Done.\n",
      "(psycopg2.errors.UndefinedTable) relation \"bldg_energy_data\" does not exist\n",
      "LINE 3: FROM bldg_energy_data bed, bldg_energy_data_sum_class bedsc\n",
      "             ^\n",
      "\n",
      "[SQL: CREATE TABLE bldg_energy_consumption AS(\n",
      "SELECT max(bed.value) - min(bed.value) as energy_consumption_kWh\n",
      "FROM bldg_energy_data bed, bldg_energy_data_sum_class bedsc\n",
      "WHERE bed.class = bedsc.class and bed.time >= '2018-06-10' and bed.time < '2018-06-11');]\n",
      "(Background on this error at: http://sqlalche.me/e/14/f405)\n"
     ]
    }
   ],
   "source": [
    "%%sql\n",
    "DROP TABLE IF EXISTS bldg_energy_consumption;\n",
    "CREATE TABLE bldg_energy_consumption AS(\n",
    "SELECT max(bed.value) - min(bed.value) as energy_consumption_kWh\n",
    "FROM bldg_energy_data bed, bldg_energy_data_sum_class bedsc\n",
    "WHERE bed.class = bedsc.class and bed.time >= '2018-06-10' and bed.time < '2018-06-11');\n",
    "SELECT * FROM bldg_energy_consumption"
   ]
  },
  {
   "cell_type": "markdown",
   "metadata": {},
   "source": [
    "# SQL Model No.12 - calculate the Energy Usage Index (EUI) of that bulding of that day"
   ]
  },
  {
   "cell_type": "code",
   "execution_count": 16,
   "metadata": {},
   "outputs": [
    {
     "name": "stdout",
     "output_type": "stream",
     "text": [
      "   postgresql://jovyan@127.0.0.1:5432/template1\n",
      " * postgresql://jovyan@127.0.0.1:5432/ucb_buildings\n",
      "Done.\n",
      "(psycopg2.errors.UndefinedTable) relation \"bldg_energy_consumption\" does not exist\n",
      "LINE 3: FROM bldg_energy_consumption bec, bldg_real_estate bre);\n",
      "             ^\n",
      "\n",
      "[SQL: CREATE TABLE bldg_eui AS(\n",
      "SELECT bec.energy_consumption_kwh / bre.bldg_asf as EUI_kWh_sf\n",
      "FROM bldg_energy_consumption bec, bldg_real_estate bre);]\n",
      "(Background on this error at: http://sqlalche.me/e/14/f405)\n"
     ]
    }
   ],
   "source": [
    "%%sql\n",
    "DROP TABLE IF EXISTS bldg_eui;\n",
    "CREATE TABLE bldg_eui AS(\n",
    "SELECT bec.energy_consumption_kwh / bre.bldg_asf as EUI_kWh_sf\n",
    "FROM bldg_energy_consumption bec, bldg_real_estate bre);\n",
    "SELECT * FROM bldg_eui"
   ]
  },
  {
   "cell_type": "markdown",
   "metadata": {},
   "source": []
  },
  {
   "cell_type": "code",
   "execution_count": null,
   "metadata": {},
   "outputs": [],
   "source": []
  }
 ],
 "metadata": {
  "kernelspec": {
   "display_name": "Python 3",
   "language": "python",
   "name": "python3"
  },
  "language_info": {
   "codemirror_mode": {
    "name": "ipython",
    "version": 3
   },
   "file_extension": ".py",
   "mimetype": "text/x-python",
   "name": "python",
   "nbconvert_exporter": "python",
   "pygments_lexer": "ipython3",
   "version": "3.8.8"
  }
 },
 "nbformat": 4,
 "nbformat_minor": 4
}
